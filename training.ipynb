{
 "cells": [
  {
   "cell_type": "markdown",
   "metadata": {},
   "source": [
    "## SLIP Radiology Report Grading Welcome\n",
    "\n",
    "Welcome to the SLIP project. The project was started with the intention to curate a set of clinically acquired Scans with Limited Imaging Pathology. The ongoing retrospective data collection process begins with checking the radiology reports (semi-structured written summaries of the contents of a scan). Because these scans are clinically acquired, a scan with no pathology cannot be marked as \"healthy\". Rather, scans are often marked as \"unremarkable\" or \"appearing normal\" to indicate a lack of finding. \n",
    "\n",
    "The training for SLIP report grading has 3 steps:\n",
    "1. Reading SLIP and non-SLIP report examples\n",
    "2. Practicing rating a subset of 150 reports\n",
    "3. Grade a set of \"shared\" reports used for calculating reliability ratings"
   ]
  },
  {
   "cell_type": "markdown",
   "metadata": {},
   "source": [
    "## Grading Guidelines\n",
    "\n",
    "The grades are on an ordinal scale of 0/1/2 where\n",
    "- Rating 0: Suspect serious imaging pathology\n",
    "- Rating 1: Neither a 0 nor a 2 (AKA “I don’t know”). These are people who may or may not be included in our analyses depending on the context.\n",
    "- Rating 2: No reason to suspect imaging pathology. These are people whose imaging pathology would likely not exclude them from being part of a control cohort in research brain MRI study. Note that this is different from their PAST MEDICAL HISTORY potentially excluding them, which is a different issue.\n",
    "\n",
    "**Before starting to examine reports, read through the report grading guidelines\n",
    "[HERE](https://github.com/BGDlab/radiology_report_grading/blob/main/guidelines.pdf).** If you would like to add a phrase, please leave a comment in the document in the corresponding section containing the phrase and how it should be interpreted."
   ]
  },
  {
   "cell_type": "markdown",
   "metadata": {},
   "source": [
    "## Step 0: Run the following cell to load the necessary libraries and set up variables.\n",
    "\n",
    "Then scroll down to Step 1."
   ]
  },
  {
   "cell_type": "code",
   "execution_count": null,
   "metadata": {},
   "outputs": [],
   "source": [
    "# Cell 0 - must be run first!\n",
    "import os\n",
    "import sys\n",
    "\n",
    "# Get the current working directory\n",
    "current_dir = os.getcwd()\n",
    "\n",
    "# Add the code directory to sys.path\n",
    "sys.path.append(os.path.join(current_dir, 'code'))\n",
    "\n",
    "\n",
    "from google.cloud import bigquery\n",
    "import pandas as pd\n",
    "from annotationHelperLib import *\n",
    "from reportMarkingFunctions import *\n",
    "from IPython.display import clear_output\n",
    "\n",
    "# This variable is a list of words that will be highlighed in yellow in the reports. \n",
    "# To add a specific string to the list, enclose it in single or double quotes and follow it\n",
    "# with a comma\n",
    "\n",
    "toHighlight = phrasesToHighlightFn()"
   ]
  },
  {
   "cell_type": "markdown",
   "metadata": {},
   "source": [
    "## Step 1: Reading Example Reports\n",
    "\n",
    "Run the following cell to view each sample report and its categorization as SLIP or non-SLIP. Press 'enter' after reading the report to view another report. When the cell finishes running, you can rerun it to view the reports again or proceed to the next section if you are comfortable with your understanding of the reports.\n",
    "\n",
    "The argument `toHighlight` passes a dictionary with color strings as keys and lists of strings as values to the function. The function will highlight occurrences of strings in each list in the specified color. (Note: you can modify the lists included in this dictionary as you wish. The highlighting is imperfect, but it helps draw your eye to phrases that are meaningful to you.)"
   ]
  },
  {
   "cell_type": "code",
   "execution_count": null,
   "metadata": {},
   "outputs": [],
   "source": [
    "# Cell 01\n",
    "read_sample_reports(toHighlight)"
   ]
  },
  {
   "cell_type": "markdown",
   "metadata": {},
   "source": [
    "## Step 2: Self-Evaluation Practice for Report Grading\n",
    "\n",
    "In this section, you will practice rating reports yourself. Modify the variable `name` in the next cell to the name you use for publications. Then run the following cell to display a report, give it a grade, and note the reason you think it should get that grade. After your reasoning is submitted, the grades and reasons for the grades others have submitted will be shown. \n",
    "\n",
    "You can grade several reports while running the cell once. To change the number of reports in a batch, modify the variable `batchSize`.\n",
    "\n",
    "*If the report disappears after you type a number for the grade, use Ctrl + z or Cmd + z to undo, interrupt the kernel using the square button in the toolbar above, and run the cell again.*"
   ]
  },
  {
   "cell_type": "code",
   "execution_count": null,
   "metadata": {},
   "outputs": [],
   "source": [
    "# Cell 02\n",
    "# Replace with the name you want used in publications of this data set\n",
    "name = \"TEST\"\n",
    "batchSize = 10\n",
    "\n",
    "isOnMainTable = welcome_user(name)"
   ]
  },
  {
   "cell_type": "code",
   "execution_count": null,
   "metadata": {},
   "outputs": [],
   "source": [
    "# Cell 03\n",
    "for i in range(batchSize):\n",
    "    clear_output()\n",
    "    print(i)\n",
    "    print()\n",
    "    if not isOnMainTable:\n",
    "        mark_selfeval_report_sql(name, toHighlight)"
   ]
  },
  {
   "cell_type": "markdown",
   "metadata": {},
   "source": [
    "## Step 3: Reliability Grading\n",
    "\n",
    "Now you can switch to the `training.ipynb` notebook for the reliability reports. In the reliability report grading section, you will grade 150 reports that all other graders have also graded without real time feedback. At the end, we will assess your reliability with other graders."
   ]
  }
 ],
 "metadata": {
  "language_info": {
   "name": "python"
  },
  "orig_nbformat": 4
 },
 "nbformat": 4,
 "nbformat_minor": 2
}
