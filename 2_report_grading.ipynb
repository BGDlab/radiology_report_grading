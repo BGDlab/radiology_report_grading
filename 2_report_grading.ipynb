{
 "cells": [
  {
   "cell_type": "markdown",
   "metadata": {},
   "source": [
    "# Radiology Report Grading Notebook\n",
    "This is the primary notebook in which graders will evaluate radiology reports. In most cases, after you complete the training requirements you will be working with this notebook. Please use the following link to access the [grading guidelines](https://github.com/BGDlab/radiology_report_grading/blob/main/guidelines.pdf)\n",
    "\n",
    "#### First, check the following variables to ensure that you are running under the correct name and project:"
   ]
  },
  {
   "cell_type": "code",
   "execution_count": null,
   "metadata": {},
   "outputs": [],
   "source": [
    "# Select the name you want used in publications of this data set\n",
    "name = \"GRADER NAME\"\n",
    "\n",
    "# Select the number of reports you would like to grade in one session.\n",
    "batchSize = 150\n",
    "\n",
    "# Select the number of reports to add when you run out.\n",
    "num_reports_to_add = 50"
   ]
  },
  {
   "cell_type": "markdown",
   "metadata": {},
   "source": [
    "#### Second, run the following cells to update your user and project:"
   ]
  },
  {
   "cell_type": "code",
   "execution_count": null,
   "metadata": {},
   "outputs": [],
   "source": [
    "import os\n",
    "\n",
    "# Get the current working directory\n",
    "current_dir = os.getcwd()\n",
    "\n",
    "# Add the code directory to sys.path\n",
    "sys.path.append(os.path.join(current_dir, 'code'))\n",
    "\n",
    "from google.cloud import bigquery\n",
    "import pandas as pd\n",
    "from reportMarkingFunctions import *\n",
    "from IPython.display import clear_output\n",
    "import json\n",
    "\n",
    "# Get project name\n",
    "project = load_project(project_name, name)\n",
    "# Get phrases to highlight\n",
    "toHighlight = phrasesToHighlightFn()\n",
    "# Get Grader Status Report\n",
    "get_grader_status_report(name)"
   ]
  },
  {
   "cell_type": "code",
   "execution_count": null,
   "metadata": {},
   "outputs": [],
   "source": [
    "status = welcome_user(name)"
   ]
  },
  {
   "cell_type": "markdown",
   "metadata": {},
   "source": [
    "#### To grade radiology reports, please run the following cells, but do not edit them:"
   ]
  },
  {
   "cell_type": "code",
   "execution_count": null,
   "metadata": {},
   "outputs": [],
   "source": [
    "if status != \"self-eval\":\n",
    "    mark_reports(name, project, batchSize, toHighlight)"
   ]
  },
  {
   "cell_type": "markdown",
   "metadata": {},
   "source": [
    "#### To request more reports, please run the following cells, but do not edit them:"
   ]
  },
  {
   "cell_type": "code",
   "execution_count": null,
   "metadata": {},
   "outputs": [],
   "source": [
    "## If/when you run out of reports, you can run the following line of code\n",
    "#   and run this cell to get more reports from the database. Make sure your\n",
    "#   values for `project` and `queryFn` match the project you're working on.\n",
    "if status == \"unique\":\n",
    "    get_more_reports_to_grade(name, project, num_to_add=num_reports_to_add)"
   ]
  }
 ],
 "metadata": {
  "language_info": {
   "name": "python"
  },
  "orig_nbformat": 4
 },
 "nbformat": 4,
 "nbformat_minor": 2
}
